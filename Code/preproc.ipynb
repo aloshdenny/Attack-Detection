{
 "cells": [
  {
   "cell_type": "code",
   "execution_count": 120,
   "metadata": {},
   "outputs": [
    {
     "name": "stderr",
     "output_type": "stream",
     "text": [
      "C:\\Users\\alosh\\AppData\\Local\\Temp\\ipykernel_24244\\3737959137.py:2: DtypeWarning: Columns (85) have mixed types. Specify dtype option on import or set low_memory=False.\n",
      "  df = pd.read_csv(r\"C:\\Users\\alosh\\OneDrive\\Desktop\\VSCODE\\AttackDetection\\LDAP.csv\", delimiter = ',')\n"
     ]
    }
   ],
   "source": [
    "import pandas as pd\n",
    "df = pd.read_csv(r\"C:\\Users\\alosh\\OneDrive\\Desktop\\VSCODE\\AttackDetection\\LDAP.csv\", delimiter = ',')"
   ]
  },
  {
   "cell_type": "code",
   "execution_count": 32,
   "metadata": {},
   "outputs": [
    {
     "data": {
      "text/plain": [
       "array(['NetBIOS', 'BENIGN', 'LDAP'], dtype=object)"
      ]
     },
     "execution_count": 32,
     "metadata": {},
     "output_type": "execute_result"
    }
   ],
   "source": [
    "df[' Label'].unique()"
   ]
  },
  {
   "cell_type": "code",
   "execution_count": 7,
   "metadata": {},
   "outputs": [],
   "source": [
    "df.dropna(inplace=True)\n",
    "df.drop_duplicates(inplace=True)"
   ]
  },
  {
   "cell_type": "code",
   "execution_count": null,
   "metadata": {},
   "outputs": [],
   "source": [
    "df.info()\n",
    "# Before duplicates: RangeIndex: 2113234 entries, 0 to 2113233\n",
    "# After duplicates : Int64Index: 2113221 entries, 0 to 2113233"
   ]
  },
  {
   "cell_type": "code",
   "execution_count": 125,
   "metadata": {},
   "outputs": [
    {
     "data": {
      "text/plain": [
       "1861025"
      ]
     },
     "execution_count": 125,
     "metadata": {},
     "output_type": "execute_result"
    }
   ],
   "source": [
    "len(df['Flow ID'].unique())"
   ]
  },
  {
   "cell_type": "code",
   "execution_count": null,
   "metadata": {},
   "outputs": [],
   "source": [
    "pd.set_option('display.max_columns', None) \n",
    "pd.set_option('display.max_rows', None)\n",
    "df.head(50)"
   ]
  },
  {
   "cell_type": "code",
   "execution_count": 8,
   "metadata": {},
   "outputs": [],
   "source": [
    "# Select columns with object type and exclude 'Label'\n",
    "object_columns = df.select_dtypes(include='object')\n",
    "object_columns = object_columns.drop(' Label', axis=1)"
   ]
  },
  {
   "cell_type": "code",
   "execution_count": 186,
   "metadata": {},
   "outputs": [],
   "source": [
    "import pandas as pd\n",
    "data = pd.read_csv(r\"C:\\Users\\alosh\\OneDrive\\Desktop\\VSCODE\\AttackDetection\\updated_data.csv\", delimiter=',')"
   ]
  },
  {
   "cell_type": "code",
   "execution_count": 187,
   "metadata": {},
   "outputs": [],
   "source": [
    "data.dropna(inplace=True)\n",
    "data.drop_duplicates(inplace=True)"
   ]
  },
  {
   "cell_type": "code",
   "execution_count": 188,
   "metadata": {},
   "outputs": [
    {
     "name": "stdout",
     "output_type": "stream",
     "text": [
      "<class 'pandas.core.frame.DataFrame'>\n",
      "Int64Index: 2113051 entries, 0 to 2113220\n",
      "Data columns (total 83 columns):\n",
      " #   Column                        Dtype  \n",
      "---  ------                        -----  \n",
      " 0   Unnamed: 0                    int64  \n",
      " 1    Source Port                  int64  \n",
      " 2    Destination Port             int64  \n",
      " 3    Protocol                     int64  \n",
      " 4    Flow Duration                int64  \n",
      " 5    Total Fwd Packets            int64  \n",
      " 6    Total Backward Packets       int64  \n",
      " 7   Total Length of Fwd Packets   float64\n",
      " 8    Total Length of Bwd Packets  float64\n",
      " 9    Fwd Packet Length Max        float64\n",
      " 10   Fwd Packet Length Min        float64\n",
      " 11   Fwd Packet Length Mean       float64\n",
      " 12   Fwd Packet Length Std        float64\n",
      " 13  Bwd Packet Length Max         float64\n",
      " 14   Bwd Packet Length Min        float64\n",
      " 15   Bwd Packet Length Mean       float64\n",
      " 16   Bwd Packet Length Std        float64\n",
      " 17  Flow Bytes/s                  float64\n",
      " 18   Flow Packets/s               float64\n",
      " 19   Flow IAT Mean                float64\n",
      " 20   Flow IAT Std                 float64\n",
      " 21   Flow IAT Max                 float64\n",
      " 22   Flow IAT Min                 float64\n",
      " 23  Fwd IAT Total                 float64\n",
      " 24   Fwd IAT Mean                 float64\n",
      " 25   Fwd IAT Std                  float64\n",
      " 26   Fwd IAT Max                  float64\n",
      " 27   Fwd IAT Min                  float64\n",
      " 28  Bwd IAT Total                 float64\n",
      " 29   Bwd IAT Mean                 float64\n",
      " 30   Bwd IAT Std                  float64\n",
      " 31   Bwd IAT Max                  float64\n",
      " 32   Bwd IAT Min                  float64\n",
      " 33  Fwd PSH Flags                 int64  \n",
      " 34   Bwd PSH Flags                int64  \n",
      " 35   Fwd URG Flags                int64  \n",
      " 36   Bwd URG Flags                int64  \n",
      " 37   Fwd Header Length            int64  \n",
      " 38   Bwd Header Length            int64  \n",
      " 39  Fwd Packets/s                 float64\n",
      " 40   Bwd Packets/s                float64\n",
      " 41   Min Packet Length            float64\n",
      " 42   Max Packet Length            float64\n",
      " 43   Packet Length Mean           float64\n",
      " 44   Packet Length Std            float64\n",
      " 45   Packet Length Variance       float64\n",
      " 46  FIN Flag Count                int64  \n",
      " 47   SYN Flag Count               int64  \n",
      " 48   RST Flag Count               int64  \n",
      " 49   PSH Flag Count               int64  \n",
      " 50   ACK Flag Count               int64  \n",
      " 51   URG Flag Count               int64  \n",
      " 52   CWE Flag Count               int64  \n",
      " 53   ECE Flag Count               int64  \n",
      " 54   Down/Up Ratio                float64\n",
      " 55   Average Packet Size          float64\n",
      " 56   Avg Fwd Segment Size         float64\n",
      " 57   Avg Bwd Segment Size         float64\n",
      " 58   Fwd Header Length.1          int64  \n",
      " 59  Fwd Avg Bytes/Bulk            int64  \n",
      " 60   Fwd Avg Packets/Bulk         int64  \n",
      " 61   Fwd Avg Bulk Rate            int64  \n",
      " 62   Bwd Avg Bytes/Bulk           int64  \n",
      " 63   Bwd Avg Packets/Bulk         int64  \n",
      " 64  Bwd Avg Bulk Rate             int64  \n",
      " 65  Subflow Fwd Packets           int64  \n",
      " 66   Subflow Fwd Bytes            int64  \n",
      " 67   Subflow Bwd Packets          int64  \n",
      " 68   Subflow Bwd Bytes            int64  \n",
      " 69  Init_Win_bytes_forward        int64  \n",
      " 70   Init_Win_bytes_backward      int64  \n",
      " 71   act_data_pkt_fwd             int64  \n",
      " 72   min_seg_size_forward         int64  \n",
      " 73  Active Mean                   float64\n",
      " 74   Active Std                   float64\n",
      " 75   Active Max                   float64\n",
      " 76   Active Min                   float64\n",
      " 77  Idle Mean                     float64\n",
      " 78   Idle Std                     float64\n",
      " 79   Idle Max                     float64\n",
      " 80   Idle Min                     float64\n",
      " 81   Inbound                      int64  \n",
      " 82   Label                        int64  \n",
      "dtypes: float64(45), int64(38)\n",
      "memory usage: 1.3 GB\n"
     ]
    }
   ],
   "source": [
    "data.info()"
   ]
  },
  {
   "cell_type": "code",
   "execution_count": null,
   "metadata": {},
   "outputs": [],
   "source": [
    "# data = data.drop(columns=' Timestamp')\n",
    "# # # Create a dictionary to map unique classes to integers\n",
    "# # label_map = {label: i for i, label in enumerate(data[' Label'].unique())}\n",
    "\n",
    "# # # Replace the \"Label\" column with the corresponding integer values\n",
    "# # data[' Label'] = data[' Label'].map(label_map)\n",
    "\n",
    "# # Save the updated dataset\n",
    "# data.to_csv('updated_data.csv', index=False)\n",
    "# data.info()"
   ]
  },
  {
   "cell_type": "code",
   "execution_count": 50,
   "metadata": {},
   "outputs": [
    {
     "name": "stdout",
     "output_type": "stream",
     "text": [
      " Timestamp\n",
      "19        13\n",
      "20         3\n",
      "21     22899\n",
      "22    242342\n",
      "23    242640\n",
      "24    242152\n",
      "25    240252\n",
      "26    237659\n",
      "27    237124\n",
      "28    231090\n",
      "29    209017\n",
      "dtype: int64\n"
     ]
    }
   ],
   "source": [
    "# # Convert the timestamp column to datetime format\n",
    "# data[' Timestamp'] = pd.to_datetime(data[' Timestamp'])\n",
    "\n",
    "# # Group the data by hour and count the number of attacks\n",
    "# attack_counts = data[data[' Label'] == 0|2].groupby(data[' Timestamp'].dt.minute).size()\n",
    "\n",
    "# # Print the attack counts\n",
    "# print(attack_counts)"
   ]
  },
  {
   "cell_type": "code",
   "execution_count": 66,
   "metadata": {},
   "outputs": [],
   "source": [
    "data.to_csv('updated_data.csv', index=False)"
   ]
  },
  {
   "cell_type": "code",
   "execution_count": 70,
   "metadata": {},
   "outputs": [
    {
     "name": "stdout",
     "output_type": "stream",
     "text": [
      "<class 'pandas.core.frame.DataFrame'>\n",
      "RangeIndex: 2113221 entries, 0 to 2113220\n",
      "Data columns (total 83 columns):\n",
      " #   Column                        Dtype  \n",
      "---  ------                        -----  \n",
      " 0   Unnamed: 0                    int64  \n",
      " 1    Source Port                  int64  \n",
      " 2    Destination Port             int64  \n",
      " 3    Protocol                     int64  \n",
      " 4    Flow Duration                int64  \n",
      " 5    Total Fwd Packets            int64  \n",
      " 6    Total Backward Packets       int64  \n",
      " 7   Total Length of Fwd Packets   float64\n",
      " 8    Total Length of Bwd Packets  float64\n",
      " 9    Fwd Packet Length Max        float64\n",
      " 10   Fwd Packet Length Min        float64\n",
      " 11   Fwd Packet Length Mean       float64\n",
      " 12   Fwd Packet Length Std        float64\n",
      " 13  Bwd Packet Length Max         float64\n",
      " 14   Bwd Packet Length Min        float64\n",
      " 15   Bwd Packet Length Mean       float64\n",
      " 16   Bwd Packet Length Std        float64\n",
      " 17  Flow Bytes/s                  float64\n",
      " 18   Flow Packets/s               float64\n",
      " 19   Flow IAT Mean                float64\n",
      " 20   Flow IAT Std                 float64\n",
      " 21   Flow IAT Max                 float64\n",
      " 22   Flow IAT Min                 float64\n",
      " 23  Fwd IAT Total                 float64\n",
      " 24   Fwd IAT Mean                 float64\n",
      " 25   Fwd IAT Std                  float64\n",
      " 26   Fwd IAT Max                  float64\n",
      " 27   Fwd IAT Min                  float64\n",
      " 28  Bwd IAT Total                 float64\n",
      " 29   Bwd IAT Mean                 float64\n",
      " 30   Bwd IAT Std                  float64\n",
      " 31   Bwd IAT Max                  float64\n",
      " 32   Bwd IAT Min                  float64\n",
      " 33  Fwd PSH Flags                 int64  \n",
      " 34   Bwd PSH Flags                int64  \n",
      " 35   Fwd URG Flags                int64  \n",
      " 36   Bwd URG Flags                int64  \n",
      " 37   Fwd Header Length            int64  \n",
      " 38   Bwd Header Length            int64  \n",
      " 39  Fwd Packets/s                 float64\n",
      " 40   Bwd Packets/s                float64\n",
      " 41   Min Packet Length            float64\n",
      " 42   Max Packet Length            float64\n",
      " 43   Packet Length Mean           float64\n",
      " 44   Packet Length Std            float64\n",
      " 45   Packet Length Variance       float64\n",
      " 46  FIN Flag Count                int64  \n",
      " 47   SYN Flag Count               int64  \n",
      " 48   RST Flag Count               int64  \n",
      " 49   PSH Flag Count               int64  \n",
      " 50   ACK Flag Count               int64  \n",
      " 51   URG Flag Count               int64  \n",
      " 52   CWE Flag Count               int64  \n",
      " 53   ECE Flag Count               int64  \n",
      " 54   Down/Up Ratio                float64\n",
      " 55   Average Packet Size          float64\n",
      " 56   Avg Fwd Segment Size         float64\n",
      " 57   Avg Bwd Segment Size         float64\n",
      " 58   Fwd Header Length.1          int64  \n",
      " 59  Fwd Avg Bytes/Bulk            int64  \n",
      " 60   Fwd Avg Packets/Bulk         int64  \n",
      " 61   Fwd Avg Bulk Rate            int64  \n",
      " 62   Bwd Avg Bytes/Bulk           int64  \n",
      " 63   Bwd Avg Packets/Bulk         int64  \n",
      " 64  Bwd Avg Bulk Rate             int64  \n",
      " 65  Subflow Fwd Packets           int64  \n",
      " 66   Subflow Fwd Bytes            int64  \n",
      " 67   Subflow Bwd Packets          int64  \n",
      " 68   Subflow Bwd Bytes            int64  \n",
      " 69  Init_Win_bytes_forward        int64  \n",
      " 70   Init_Win_bytes_backward      int64  \n",
      " 71   act_data_pkt_fwd             int64  \n",
      " 72   min_seg_size_forward         int64  \n",
      " 73  Active Mean                   float64\n",
      " 74   Active Std                   float64\n",
      " 75   Active Max                   float64\n",
      " 76   Active Min                   float64\n",
      " 77  Idle Mean                     float64\n",
      " 78   Idle Std                     float64\n",
      " 79   Idle Max                     float64\n",
      " 80   Idle Min                     float64\n",
      " 81   Inbound                      int64  \n",
      " 82   Label                        int64  \n",
      "dtypes: float64(45), int64(38)\n",
      "memory usage: 1.3 GB\n"
     ]
    }
   ],
   "source": [
    "data.info()"
   ]
  },
  {
   "cell_type": "code",
   "execution_count": 53,
   "metadata": {},
   "outputs": [
    {
     "data": {
      "text/plain": [
       "array([0, 1, 2], dtype=int64)"
      ]
     },
     "execution_count": 53,
     "metadata": {},
     "output_type": "execute_result"
    }
   ],
   "source": [
    "data[' Label'].unique()"
   ]
  },
  {
   "cell_type": "code",
   "execution_count": 54,
   "metadata": {},
   "outputs": [
    {
     "name": "stderr",
     "output_type": "stream",
     "text": [
      "C:\\Users\\alosh\\AppData\\Local\\Temp\\ipykernel_24244\\2042157792.py:1: FutureWarning: The default value of numeric_only in DataFrame.corr is deprecated. In a future version, it will default to False. Select only valid columns or specify the value of numeric_only to silence this warning.\n",
      "  gain = data.corr()\n"
     ]
    }
   ],
   "source": [
    "gain = data.corr()"
   ]
  },
  {
   "cell_type": "code",
   "execution_count": 229,
   "metadata": {},
   "outputs": [
    {
     "name": "stdout",
     "output_type": "stream",
     "text": [
      "15\n",
      "15\n",
      "['Unnamed: 0', 'Total Length of Fwd Packets', ' Fwd Packet Length Max', ' Fwd Packet Length Min', ' Fwd Packet Length Mean', 'Flow Bytes/s', ' Flow Packets/s', 'Fwd Packets/s', ' Min Packet Length', ' Max Packet Length', ' Packet Length Mean', ' Average Packet Size', ' Avg Fwd Segment Size', ' Subflow Fwd Bytes', ' Label']\n",
      "[(' Label', 1.0), (' Packet Length Mean', 0.9855008757128761), (' Fwd Packet Length Mean', 0.9852394488604688), (' Avg Fwd Segment Size', 0.9852394488604688), (' Average Packet Size', 0.9850951368059166), (' Fwd Packet Length Max', 0.985035167769095), (' Fwd Packet Length Min', 0.9848768753420869), (' Min Packet Length', 0.9848555512668831), (' Max Packet Length', 0.983447096686843), ('Total Length of Fwd Packets', 0.9074184334783362), (' Subflow Fwd Bytes', 0.9074184334783362), ('Unnamed: 0', -0.765533167587848), ('Flow Bytes/s', 0.721216123994799), ('Fwd Packets/s', 0.16705377482401432), (' Flow Packets/s', 0.16239270918356255)]\n"
     ]
    }
   ],
   "source": [
    "thresh = 0.1\n",
    "significant_features = []\n",
    "significant_scores = []\n",
    "\n",
    "for feature in data.columns:\n",
    "    if (gain[' Label'][feature] > thresh or gain[' Label'][feature] < -thresh):\n",
    "        significant_scores.append((feature, gain[' Label'][feature]))\n",
    "        significant_features.append(feature)\n",
    "\n",
    "# Sort the list based on the absolute gain values in descending order\n",
    "significant_scores = sorted(significant_scores, key=lambda x: abs(x[1]), reverse=True)\n",
    "\n",
    "print(len(significant_features))\n",
    "print(len(significant_scores))\n",
    "print(significant_features)\n",
    "print(significant_scores)"
   ]
  },
  {
   "cell_type": "code",
   "execution_count": 212,
   "metadata": {},
   "outputs": [
    {
     "name": "stdout",
     "output_type": "stream",
     "text": [
      "['Unnamed: 0', ' Source Port', ' Protocol', ' Flow Duration', 'Total Length of Fwd Packets', ' Fwd Packet Length Max', ' Fwd Packet Length Min', ' Fwd Packet Length Mean', ' Fwd Packet Length Std', 'Bwd Packet Length Max', ' Bwd Packet Length Min', ' Bwd Packet Length Mean', ' Bwd Packet Length Std', 'Flow Bytes/s', ' Flow Packets/s', ' Flow IAT Mean', ' Flow IAT Std', ' Flow IAT Max', 'Fwd IAT Total', ' Fwd IAT Mean', ' Fwd IAT Std', ' Fwd IAT Max', 'Bwd IAT Total', ' Bwd IAT Mean', ' Bwd IAT Std', ' Bwd IAT Max', ' Bwd IAT Min', 'Fwd PSH Flags', ' Fwd Header Length', 'Fwd Packets/s', ' Min Packet Length', ' Max Packet Length', ' Packet Length Mean', ' Packet Length Std', ' Packet Length Variance', ' RST Flag Count', ' ACK Flag Count', ' URG Flag Count', ' CWE Flag Count', ' Down/Up Ratio', ' Average Packet Size', ' Avg Fwd Segment Size', ' Avg Bwd Segment Size', ' Fwd Header Length.1', ' Subflow Fwd Bytes', 'Init_Win_bytes_forward', ' Init_Win_bytes_backward', ' min_seg_size_forward', 'Active Mean', ' Active Max', 'Idle Mean', ' Idle Max', ' Idle Min', ' Inbound', ' Label']\n"
     ]
    }
   ],
   "source": [
    "print(significant_features)"
   ]
  },
  {
   "cell_type": "code",
   "execution_count": 201,
   "metadata": {},
   "outputs": [
    {
     "name": "stdout",
     "output_type": "stream",
     "text": [
      "Chi-squared statistic: 6806.000000000002\n",
      "Degrees of freedom: 6724\n",
      "P-value: 0.23885340246973744\n"
     ]
    }
   ],
   "source": [
    "# CHI SQUARED STATS\n",
    "from scipy.stats import chi2_contingency\n",
    "contingency_table = pd.crosstab(index=data.columns, columns=data.columns)\n",
    "chi2_statistic, p_value, degrees_of_freedom, expected_table = chi2_contingency(contingency_table)\n",
    "print(\"Chi-squared statistic:\", chi2_statistic)\n",
    "print(\"Degrees of freedom:\", degrees_of_freedom)\n",
    "print(\"P-value:\", p_value)"
   ]
  },
  {
   "cell_type": "code",
   "execution_count": null,
   "metadata": {},
   "outputs": [],
   "source": [
    "from scipy.stats import chi2_contingency\n",
    "\n",
    "# Assuming 'data' is your DataFrame\n",
    "features = data.columns \n",
    "\n",
    "for feature in features:\n",
    "    contingency_table = pd.crosstab(index=data[feature], columns=data[' Label'])\n",
    "    chi2_statistic, p_value, degrees_of_freedom, expected_table = chi2_contingency(contingency_table)\n",
    "\n",
    "    print(f\"Chi-squared test for {feature} vs. Label:\")\n",
    "    print(\"Chi-squared statistic:\", chi2_statistic)\n",
    "    print(\"Degrees of freedom:\", degrees_of_freedom)\n",
    "    print(\"P-value:\", p_value)\n",
    "    print(\"\\n\")"
   ]
  },
  {
   "cell_type": "code",
   "execution_count": 213,
   "metadata": {},
   "outputs": [
    {
     "name": "stdout",
     "output_type": "stream",
     "text": [
      "71\n",
      "71\n",
      "[('Unnamed: 0', 2290591.3841220755, 0.0), (' Source Port', 2407689.02510964, 0.0), (' Destination Port', 1724757.827912144, 0.0), (' Protocol', 1557400.958865587, 0.0), (' Flow Duration', 1664576.0477826172, 0.0), (' Total Fwd Packets', 859901.1015454993, 0.0), (' Total Backward Packets', 1398708.3446045471, 0.0), ('Total Length of Fwd Packets', 4115823.6071257354, 0.0), (' Total Length of Bwd Packets', 1035759.4527874725, 0.0), (' Fwd Packet Length Max', 4107522.649057175, 0.0), (' Fwd Packet Length Min', 4109527.192821746, 0.0), (' Fwd Packet Length Mean', 4117901.5591122154, 0.0), (' Fwd Packet Length Std', 705798.139777473, 0.0), ('Bwd Packet Length Max', 1032644.3960014366, 0.0), (' Bwd Packet Length Min', 727585.9407453021, 0.0), (' Bwd Packet Length Mean', 1033644.3091621875, 0.0), (' Bwd Packet Length Std', 379937.26837236487, 0.0), ('Flow Bytes/s', 4033259.616799292, 0.0), (' Flow Packets/s', 1791770.8225292917, 0.0), (' Flow IAT Mean', 1775712.6151480528, 0.0), (' Flow IAT Std', 1586566.5905480883, 0.0), (' Flow IAT Max', 1667948.1051614922, 0.0), (' Flow IAT Min', 314862.10313376284, 0.0), ('Fwd IAT Total', 887151.0337300919, 0.0), (' Fwd IAT Mean', 945347.7280910419, 0.0), (' Fwd IAT Std', 728425.3206142716, 0.0), (' Fwd IAT Max', 888217.6770829933, 0.0), (' Fwd IAT Min', 264450.08682332514, 0.0), ('Bwd IAT Total', 1345653.0401357075, 0.0), (' Bwd IAT Mean', 1345722.1664402597, 0.0), (' Bwd IAT Std', 506175.9721088434, 0.0), (' Bwd IAT Max', 1345467.3466221152, 0.0), (' Bwd IAT Min', 1260681.3952886956, 0.0), ('Fwd PSH Flags', 374612.39099843963, 0.0), (' Fwd Header Length', 790064.857700132, 0.0), (' Bwd Header Length', 1396221.1788663138, 0.0), ('Fwd Packets/s', 1774406.659176534, 0.0), (' Bwd Packets/s', 1478292.6157546213, 0.0), (' Min Packet Length', 4107078.6932580257, 0.0), (' Max Packet Length', 4102149.549868943, 0.0), (' Packet Length Mean', 4141853.574005185, 0.0), (' Packet Length Std', 1190694.3272110033, 0.0), (' Packet Length Variance', 1190694.3272110033, 0.0), (' SYN Flag Count', 1771.4279288977575, 0.0), (' RST Flag Count', 374612.39099843963, 0.0), (' ACK Flag Count', 294857.4280647106, 0.0), (' URG Flag Count', 1240575.0570748758, 0.0), (' CWE Flag Count', 439417.4644709374, 0.0), (' Down/Up Ratio', 1035970.5959931889, 0.0), (' Average Packet Size', 4155238.5334801534, 0.0), (' Avg Fwd Segment Size', 4117341.626548735, 0.0), (' Avg Bwd Segment Size', 1033630.4668120227, 0.0), (' Fwd Header Length.1', 790064.857700132, 0.0), ('Subflow Fwd Packets', 859901.1015454993, 0.0), (' Subflow Fwd Bytes', 4115823.6071257354, 0.0), (' Subflow Bwd Packets', 1398708.3446045471, 0.0), (' Subflow Bwd Bytes', 1035759.4527874725, 0.0), ('Init_Win_bytes_forward', 1585406.0809932216, 0.0), (' Init_Win_bytes_backward', 1061554.6195602105, 0.0), (' act_data_pkt_fwd', 1138654.8158158252, 0.0), (' min_seg_size_forward', 296275.93273204175, 0.0), ('Active Mean', 251348.74784570368, 0.0), (' Active Std', 141784.51031833846, 0.0), (' Active Max', 251348.7478457037, 0.0), (' Active Min', 251348.74784570374, 0.0), ('Idle Mean', 255109.02474635758, 0.0), (' Idle Std', 143033.81149108813, 0.0), (' Idle Max', 255109.02474635758, 0.0), (' Idle Min', 255109.02474635752, 0.0), (' Inbound', 1465856.5826384344, 0.0), (' Label', 4226102.0, 0.0)]\n",
      "['Unnamed: 0', ' Source Port', ' Destination Port', ' Protocol', ' Flow Duration', ' Total Fwd Packets', ' Total Backward Packets', 'Total Length of Fwd Packets', ' Total Length of Bwd Packets', ' Fwd Packet Length Max', ' Fwd Packet Length Min', ' Fwd Packet Length Mean', ' Fwd Packet Length Std', 'Bwd Packet Length Max', ' Bwd Packet Length Min', ' Bwd Packet Length Mean', ' Bwd Packet Length Std', 'Flow Bytes/s', ' Flow Packets/s', ' Flow IAT Mean', ' Flow IAT Std', ' Flow IAT Max', ' Flow IAT Min', 'Fwd IAT Total', ' Fwd IAT Mean', ' Fwd IAT Std', ' Fwd IAT Max', ' Fwd IAT Min', 'Bwd IAT Total', ' Bwd IAT Mean', ' Bwd IAT Std', ' Bwd IAT Max', ' Bwd IAT Min', 'Fwd PSH Flags', ' Fwd Header Length', ' Bwd Header Length', 'Fwd Packets/s', ' Bwd Packets/s', ' Min Packet Length', ' Max Packet Length', ' Packet Length Mean', ' Packet Length Std', ' Packet Length Variance', ' SYN Flag Count', ' RST Flag Count', ' ACK Flag Count', ' URG Flag Count', ' CWE Flag Count', ' Down/Up Ratio', ' Average Packet Size', ' Avg Fwd Segment Size', ' Avg Bwd Segment Size', ' Fwd Header Length.1', 'Subflow Fwd Packets', ' Subflow Fwd Bytes', ' Subflow Bwd Packets', ' Subflow Bwd Bytes', 'Init_Win_bytes_forward', ' Init_Win_bytes_backward', ' act_data_pkt_fwd', ' min_seg_size_forward', 'Active Mean', ' Active Std', ' Active Max', ' Active Min', 'Idle Mean', ' Idle Std', ' Idle Max', ' Idle Min', ' Inbound', ' Label']\n"
     ]
    }
   ],
   "source": [
    "from scipy.stats import chi2_contingency\n",
    "featureschi = data.columns\n",
    "alpha = 0.04\n",
    "chi_scores = []\n",
    "chi_features = []\n",
    "for feature in featureschi:\n",
    "    contingency_table = pd.crosstab(index=data[feature], columns=data[' Label'])\n",
    "    chi2_statistic, p_value, degrees_of_freedom, expected_table = chi2_contingency(contingency_table)\n",
    "\n",
    "    if p_value < alpha:\n",
    "        chi_scores.append((feature, chi2_statistic, p_value))\n",
    "        chi_features.append(feature)\n",
    "\n",
    "print(len(chi_features))\n",
    "print(len(chi_scores))\n",
    "print(chi_scores)\n",
    "print(chi_features)"
   ]
  },
  {
   "cell_type": "code",
   "execution_count": 173,
   "metadata": {},
   "outputs": [
    {
     "name": "stdout",
     "output_type": "stream",
     "text": [
      "['Unnamed: 0', ' Source Port', ' Destination Port', ' Protocol', ' Flow Duration', ' Total Fwd Packets', ' Total Backward Packets', 'Total Length of Fwd Packets', ' Total Length of Bwd Packets', ' Fwd Packet Length Max', ' Fwd Packet Length Min', ' Fwd Packet Length Mean', ' Fwd Packet Length Std', 'Bwd Packet Length Max', ' Bwd Packet Length Min', ' Bwd Packet Length Mean', ' Bwd Packet Length Std', 'Flow Bytes/s', ' Flow Packets/s', ' Flow IAT Mean', ' Flow IAT Std', ' Flow IAT Max', ' Flow IAT Min', 'Fwd IAT Total', ' Fwd IAT Mean', ' Fwd IAT Std', ' Fwd IAT Max', ' Fwd IAT Min', 'Bwd IAT Total', ' Bwd IAT Mean', ' Bwd IAT Std', ' Bwd IAT Max', ' Bwd IAT Min', 'Fwd PSH Flags', ' Fwd Header Length', ' Bwd Header Length', 'Fwd Packets/s', ' Bwd Packets/s', ' Min Packet Length', ' Max Packet Length', ' Packet Length Mean', ' Packet Length Std', ' Packet Length Variance', ' SYN Flag Count', ' RST Flag Count', ' ACK Flag Count', ' URG Flag Count', ' CWE Flag Count', ' Down/Up Ratio', ' Average Packet Size', ' Avg Fwd Segment Size', ' Avg Bwd Segment Size', ' Fwd Header Length.1', 'Subflow Fwd Packets', ' Subflow Fwd Bytes', ' Subflow Bwd Packets', ' Subflow Bwd Bytes', 'Init_Win_bytes_forward', ' Init_Win_bytes_backward', ' act_data_pkt_fwd', ' min_seg_size_forward', 'Active Mean', ' Active Std', ' Active Max', ' Active Min', 'Idle Mean', ' Idle Std', ' Idle Max', ' Idle Min', ' Inbound', ' Label']\n"
     ]
    }
   ],
   "source": [
    "print(chi_features)"
   ]
  },
  {
   "cell_type": "code",
   "execution_count": 230,
   "metadata": {},
   "outputs": [
    {
     "name": "stdout",
     "output_type": "stream",
     "text": [
      "15\n",
      "Common features: {'Fwd Packets/s', ' Subflow Fwd Bytes', 'Flow Bytes/s', ' Min Packet Length', ' Fwd Packet Length Mean', ' Label', ' Max Packet Length', ' Fwd Packet Length Min', 'Total Length of Fwd Packets', ' Fwd Packet Length Max', 'Unnamed: 0', ' Packet Length Mean', ' Flow Packets/s', ' Avg Fwd Segment Size', ' Average Packet Size'}\n"
     ]
    }
   ],
   "source": [
    "common_features = set(chi_features) & set(significant_features)\n",
    "print(len(common_features))\n",
    "print(\"Common features:\", common_features)"
   ]
  },
  {
   "cell_type": "code",
   "execution_count": 231,
   "metadata": {},
   "outputs": [
    {
     "name": "stdout",
     "output_type": "stream",
     "text": [
      "Index(['Unnamed: 0', 'Total Length of Fwd Packets', ' Fwd Packet Length Max',\n",
      "       ' Fwd Packet Length Min', ' Fwd Packet Length Mean', 'Flow Bytes/s',\n",
      "       ' Flow Packets/s', 'Fwd Packets/s', ' Min Packet Length',\n",
      "       ' Max Packet Length', ' Packet Length Mean', ' Average Packet Size',\n",
      "       ' Avg Fwd Segment Size', ' Subflow Fwd Bytes', ' Label'],\n",
      "      dtype='object')\n"
     ]
    }
   ],
   "source": [
    "new_df = data[significant_features]\n",
    "print(new_df.columns)\n",
    "new_df.to_csv(\"extracted_features6.csv\", index=False)"
   ]
  },
  {
   "cell_type": "code",
   "execution_count": 232,
   "metadata": {},
   "outputs": [
    {
     "data": {
      "text/plain": [
       "array([0, 1, 2], dtype=int64)"
      ]
     },
     "execution_count": 232,
     "metadata": {},
     "output_type": "execute_result"
    }
   ],
   "source": [
    "new_df[' Label'].unique()"
   ]
  },
  {
   "cell_type": "code",
   "execution_count": 5,
   "metadata": {},
   "outputs": [
    {
     "name": "stdout",
     "output_type": "stream",
     "text": [
      "2    1905191\n",
      "0     202919\n",
      "1       5111\n",
      "Name:  Label, dtype: int64\n"
     ]
    }
   ],
   "source": [
    "import pandas as pd\n",
    "\n",
    "# Read the CSV file into a DataFrame\n",
    "df = pd.read_csv(\"C:/Users/alosh/OneDrive/Desktop/VSCODE/AttackDetection/Datasets/extracted_features1.csv\")\n",
    "\n",
    "# Find the count of each unique class in the 'Label' column\n",
    "class_counts = df[' Label'].value_counts()\n",
    "\n",
    "print(class_counts)"
   ]
  }
 ],
 "metadata": {
  "kernelspec": {
   "display_name": "tf",
   "language": "python",
   "name": "python3"
  },
  "language_info": {
   "codemirror_mode": {
    "name": "ipython",
    "version": 3
   },
   "file_extension": ".py",
   "mimetype": "text/x-python",
   "name": "python",
   "nbconvert_exporter": "python",
   "pygments_lexer": "ipython3",
   "version": "3.10.11"
  }
 },
 "nbformat": 4,
 "nbformat_minor": 2
}
